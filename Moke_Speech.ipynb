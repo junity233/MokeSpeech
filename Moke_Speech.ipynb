{
  "cells": [
    {
      "cell_type": "markdown",
      "metadata": {
        "id": "view-in-github",
        "colab_type": "text"
      },
      "source": [
        "<a href=\"https://colab.research.google.com/github/junity233/MokeSpeech/blob/main/Moke_Speech.ipynb\" target=\"_parent\"><img src=\"https://colab.research.google.com/assets/colab-badge.svg\" alt=\"Open In Colab\"/></a>"
      ]
    },
    {
      "cell_type": "markdown",
      "metadata": {
        "id": "nlyMtCJ-DR29"
      },
      "source": [
        "# 1.初始化运行环境\n",
        "\n",
        "运行完了最后会有一行红字，点它下面的那个\"RESTART RUNTIME\"按钮就可以了"
      ]
    },
    {
      "cell_type": "code",
      "execution_count": null,
      "metadata": {
        "id": "jIl9l3STDULa"
      },
      "outputs": [],
      "source": [
        "%pip install common dual tight data prox\n",
        "%pip install paddlepaddle-gpu==2.3.2.post111 -f https://www.paddlepaddle.org.cn/whl/linux/mkl/avx/stable.html\n",
        "%pip install paddlespeech\n",
        "%pip install yacs\n",
        "%pip install opencv_python"
      ]
    },
    {
      "cell_type": "markdown",
      "metadata": {
        "id": "NhNSnRZeyKSn"
      },
      "source": [
        "# 2.下载模型\n",
        "\n",
        "请根据以下步骤执行：\n",
        "1. 在Google Drive上新建一个文件夹，命名为 \"MokeSpeech\"\n",
        "2. 复制下面链接中的内容到该文件夹内\n",
        "3. 运行这个代码块的内容\n",
        "\n",
        "https://drive.google.com/drive/folders/1si3mH-PPwFGc6H5KGfDw6uxCwdEnGbXC?usp=sharing"
      ]
    },
    {
      "cell_type": "code",
      "execution_count": null,
      "metadata": {
        "colab": {
          "base_uri": "https://localhost:8080/"
        },
        "id": "wphcw71zyLtO",
        "outputId": "e40021a9-18fd-4811-a4b8-a325218d5d70"
      },
      "outputs": [
        {
          "name": "stdout",
          "output_type": "stream",
          "text": [
            "Mounted at /content/gdriver\n"
          ]
        }
      ],
      "source": [
        "from google.colab import drive\n",
        "drive.mount(\"/content/gdriver\")\n",
        "\n",
        "%mkdir model\n",
        "%cp -r /content/gdriver/MyDrive/MokeSpeech/* /content/model"
      ]
    },
    {
      "cell_type": "markdown",
      "metadata": {
        "id": "p10U6rvEzkY2"
      },
      "source": [
        "# 3.加载配置"
      ]
    },
    {
      "cell_type": "code",
      "execution_count": null,
      "metadata": {
        "id": "VNjJzrETzm71"
      },
      "outputs": [],
      "source": [
        "from os.path import abspath\n",
        "import os.path\n",
        "\n",
        "vocoders = [\"hifigan_aishell3\", \"pwgan_aishell3\", \"wavernn_csmsc\"]\n",
        "\n",
        "def get_vocoder(name):\n",
        "    if name not in vocoders:\n",
        "        return None\n",
        "\n",
        "    return {\n",
        "        \"model_dir\": os.path.abspath(\"model/voc_model/\"+name),\n",
        "        \"model_file\": f\"{name}.pdmodel\",\n",
        "        \"params_file\": f\"{name}.pdiparams\"\n",
        "    }\n",
        "\n",
        "\n",
        "am = {\n",
        "    \"model_dir\": os.path.abspath(\"model/am_model\"),\n",
        "    \"model_file\": f\"fastspeech2_mix.pdmodel\",\n",
        "    \"params_file\": f\"fastspeech2_mix.pdiparams\"\n",
        "}\n",
        "\n",
        "phone_id_map_file = os.path.abspath(\"model/am_model/phone_id_map.txt\")\n",
        "\n",
        "%mkdir output\n"
      ]
    },
    {
      "cell_type": "markdown",
      "metadata": {
        "id": "UPH7en0D0KOR"
      },
      "source": [
        "# 4.加载模型"
      ]
    },
    {
      "cell_type": "code",
      "execution_count": null,
      "metadata": {
        "id": "Db0dIVFr0Lp2"
      },
      "outputs": [],
      "source": [
        "from paddlespeech.t2s.exps.syn_utils import get_am_output\n",
        "from paddlespeech.t2s.exps.syn_utils import get_frontend\n",
        "from paddlespeech.t2s.exps.syn_utils import get_predictor\n",
        "from paddlespeech.t2s.exps.syn_utils import get_voc_output\n",
        "\n",
        "print(\"Loading frontend\")\n",
        "frontend = get_frontend(\n",
        "    lang='mix', phones_dict=phone_id_map_file, tones_dict=None)\n",
        "\n",
        "print(\"Loading am\")\n",
        "am_predictor = get_predictor(device=\"gpu\", **am)\n",
        "\n",
        "print(\"Loading vocoders...\")\n",
        "voc_predictors = {}\n",
        "\n",
        "for i in vocoders:\n",
        "    voc_predictors[i] = get_predictor(\n",
        "        device=\"gpu\", **get_vocoder(i))\n",
        "    print(f\"\\tVocader {i} loaded.\")\n"
      ]
    },
    {
      "cell_type": "markdown",
      "metadata": {
        "id": "16MBedad6djh"
      },
      "source": [
        "# 5.Happy Hacking\n",
        "点击运行即可生成音频\n",
        "\n",
        "模型解释如下：\n",
        "\n",
        "0. hifigan_aishell3:速度快，质量低\n",
        "1. pwgan_aishell3:速度与质量中等\n",
        "2. wavernn_csmsc:速度慢，质量高\n",
        "\n",
        "生成的音频存储在output文件夹中，按照时间命名"
      ]
    },
    {
      "cell_type": "code",
      "execution_count": null,
      "metadata": {
        "id": "HuyDn9_E6iV6"
      },
      "outputs": [],
      "source": [
        "import soundfile as sf\n",
        "import datetime\n",
        "\n",
        "text=input(\"输入文本:\")\n",
        "for i,v in enumerate(vocoders):\n",
        "  print(f\"{i}.{v}\")\n",
        "\n",
        "index=int(input(\"选择模型:\"))\n",
        "if index<0 or index>=len(voc_predictors):\n",
        "  print(\"输入有误!\")\n",
        "else:\n",
        "  voc_predictor=voc_predictors[vocoders[index]]\n",
        "  am_res = get_am_output(input=text,\n",
        "                           am_predictor=am_predictor,\n",
        "                           am=\"fastspeech2_mix\",\n",
        "                           frontend=frontend,\n",
        "                           lang=\"mix\",\n",
        "                           speaker_dict=phone_id_map_file,\n",
        "                           )\n",
        "\n",
        "  res = get_voc_output(voc_predictor, am_res)\n",
        "  now = datetime.datetime.now().strftime(\"%Y%m%d%H%M%S\")\n",
        "  file_path=f\"output/{now}.wav\"\n",
        "  sf.write(file_path,res,24000)\n",
        "  print(\"生成成功!\")\n",
        "\n"
      ]
    },
    {
      "cell_type": "markdown",
      "metadata": {
        "id": "62B0F9t--z28"
      },
      "source": [
        "# 6.在线播放"
      ]
    },
    {
      "cell_type": "code",
      "execution_count": null,
      "metadata": {
        "colab": {
          "background_save": true
        },
        "id": "kj2FZHLb-3fF"
      },
      "outputs": [],
      "source": [
        "import IPython\n",
        "IPython.display.Audio(file_path)"
      ]
    }
  ],
  "metadata": {
    "accelerator": "GPU",
    "colab": {
      "provenance": [],
      "include_colab_link": true
    },
    "gpuClass": "standard",
    "kernelspec": {
      "display_name": "Python 3",
      "language": "python",
      "name": "py35-paddle1.2.0"
    },
    "language_info": {
      "codemirror_mode": {
        "name": "ipython",
        "version": 3
      },
      "file_extension": ".py",
      "mimetype": "text/x-python",
      "name": "python",
      "nbconvert_exporter": "python",
      "pygments_lexer": "ipython3",
      "version": "3.7.4"
    }
  },
  "nbformat": 4,
  "nbformat_minor": 0
}